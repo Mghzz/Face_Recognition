{
 "cells": [
  {
   "cell_type": "code",
   "execution_count": 69,
   "id": "5172e23f",
   "metadata": {},
   "outputs": [],
   "source": [
    "import matplotlib.pyplot as plt\n",
    "import numpy as np\n",
    "import os\n",
    "import scipy.io"
   ]
  },
  {
   "cell_type": "code",
   "execution_count": 70,
   "id": "2e8eac8f",
   "metadata": {},
   "outputs": [],
   "source": [
    "mat_contents = scipy.io.loadmat(os.path.join('allFaces.mat'))\n",
    "faces = mat_contents['faces']\n",
    "m = int(mat_contents['m'].squeeze())\n",
    "n = int(mat_contents['n'].squeeze())\n",
    "nfaces = np.ndarray.flatten(mat_contents['nfaces']).astype(int)"
   ]
  },
  {
   "cell_type": "markdown",
   "id": "1e2619b6",
   "metadata": {},
   "source": [
    "`PCA`"
   ]
  },
  {
   "cell_type": "code",
   "execution_count": 71,
   "id": "076c1591",
   "metadata": {},
   "outputs": [],
   "source": [
    "num_people = 38\n",
    "images_per_person_train = 4\n",
    "image_size = m * n\n",
    "trainingFaces = faces[:,:np.sum(nfaces[:36])]\n",
    "avgFace = np.mean(trainingFaces,axis=1)\n",
    "training_images = []\n",
    "labels = []\n",
    "\n",
    "start_idx = 0\n",
    "for person_id in range(num_people):\n",
    "    num_images = nfaces[person_id]\n",
    "    end_idx = start_idx + num_images\n",
    "\n",
    "    person_images = faces[:, start_idx:end_idx]\n",
    "    person_train = person_images[:, :images_per_person_train]\n",
    "\n",
    "    training_images.append(person_train)\n",
    "    labels.extend([person_id] * images_per_person_train)\n",
    "\n",
    "    start_idx = end_idx\n",
    "\n",
    "# Build training matrix\n",
    "trainingFaces = np.hstack(training_images)\n",
    "labels = np.array(labels)\n",
    "avgFace = np.mean(trainingFaces, axis=1)\n",
    "\n",
    "# --- SVD ---\n",
    "X = trainingFaces - avgFace[:, None]\n",
    "U, S, VT = np.linalg.svd(X, full_matrices=False)"
   ]
  },
  {
   "cell_type": "code",
   "execution_count": 72,
   "id": "4091b3a8",
   "metadata": {},
   "outputs": [
    {
     "name": "stdout",
     "output_type": "stream",
     "text": [
      "Distance threshold set to: 22223.82\n"
     ]
    }
   ],
   "source": [
    "# --- Build face space ---\n",
    "k = 50  # number of eigenfaces to keep\n",
    "U_k = U[:, :k]\n",
    "\n",
    "# --- Project training faces into eigenspace ---\n",
    "train_weights = U_k.T @ (trainingFaces - avgFace[:, None])  # shape: (k, num_train_images)\n",
    "\n",
    "# --- Define distance threshold statistically from training set ---\n",
    "# Compute all pairwise distances between training images of same person\n",
    "intra_class_dists = []\n",
    "for i in range(len(labels)):\n",
    "    for j in range(i+1, len(labels)):\n",
    "        if labels[i] == labels[j]:\n",
    "            dist = np.linalg.norm(train_weights[:, i] - train_weights[:, j])\n",
    "            intra_class_dists.append(dist)\n",
    "\n",
    "intra_class_dists = np.array(intra_class_dists)\n",
    "THRESHOLD = np.percentile(intra_class_dists, 95)  # you can tune this (e.g. 95%)\n",
    "\n",
    "print(f\"Distance threshold set to: {THRESHOLD:.2f}\")\n",
    "\n",
    "# --- Recognition function ---\n",
    "def recognize(query_img_flat):\n",
    "    phi = query_img_flat - avgFace\n",
    "    wq = U_k.T @ phi\n",
    "    dists = np.linalg.norm(train_weights - wq[:, None], axis=0)\n",
    "    i_best = np.argmin(dists)\n",
    "    if dists[i_best] > THRESHOLD:\n",
    "        return \"unknown\"\n",
    "    return labels[i_best]"
   ]
  },
  {
   "cell_type": "code",
   "execution_count": 73,
   "id": "661e3e8d",
   "metadata": {},
   "outputs": [
    {
     "name": "stdout",
     "output_type": "stream",
     "text": [
      "True: 0, Predicted: 0\n",
      "True: 1, Predicted: 1\n",
      "True: 2, Predicted: 2\n",
      "True: 3, Predicted: 3\n",
      "True: 4, Predicted: 4\n",
      "True: 5, Predicted: 5\n",
      "True: 6, Predicted: 6\n",
      "True: 7, Predicted: 7\n",
      "True: 8, Predicted: 8\n",
      "True: 9, Predicted: 9\n",
      "True: 10, Predicted: 10\n",
      "True: 11, Predicted: 11\n",
      "True: 12, Predicted: 12\n",
      "True: 13, Predicted: 13\n",
      "True: 14, Predicted: 14\n",
      "True: 15, Predicted: 15\n",
      "True: 16, Predicted: 16\n",
      "True: 17, Predicted: 17\n",
      "True: 18, Predicted: 18\n",
      "True: 19, Predicted: 19\n",
      "True: 20, Predicted: 20\n",
      "True: 21, Predicted: 21\n",
      "True: 22, Predicted: 22\n",
      "True: 23, Predicted: 23\n",
      "True: 24, Predicted: 24\n",
      "True: 25, Predicted: 25\n",
      "True: 26, Predicted: 26\n",
      "True: 27, Predicted: 27\n",
      "True: 28, Predicted: 28\n",
      "True: 29, Predicted: 29\n",
      "True: 30, Predicted: 30\n",
      "True: 31, Predicted: 31\n",
      "True: 32, Predicted: 32\n",
      "True: 33, Predicted: 33\n",
      "True: 34, Predicted: 34\n",
      "True: 35, Predicted: 35\n",
      "True: 36, Predicted: 36\n",
      "True: 37, Predicted: 37\n",
      "\n",
      "Accuracy: 100.00%\n"
     ]
    }
   ],
   "source": [
    "# for i in range(38) : \n",
    "    # for j in range(64) : print(f'{j},{recognize(faces[:, np.sum(nfaces[:i]) + j])}'  ,end=' ')\n",
    "    # print ('\\n')\n",
    "\n",
    "# Testing with one unseen image per person\n",
    "query_faces = []\n",
    "query_labels = []\n",
    "\n",
    "start_idx = 0\n",
    "for person_id in range(num_people):\n",
    "    num_images = nfaces[person_id]\n",
    "    end_idx = start_idx + num_images\n",
    "    person_images = faces[:, start_idx:end_idx]\n",
    "\n",
    "    if num_images > images_per_person_train:\n",
    "        query_faces.append(person_images[:, images_per_person_train])\n",
    "        query_labels.append(person_id)\n",
    "\n",
    "    start_idx = end_idx\n",
    "\n",
    "correct = 0\n",
    "for i, query_face in enumerate(query_faces):\n",
    "    pred = recognize(query_face)\n",
    "    if pred == query_labels[i]:\n",
    "        correct += 1\n",
    "    print(f\"True: {query_labels[i]}, Predicted: {pred}\")\n",
    "\n",
    "print(f\"\\nAccuracy: {100*correct/len(query_faces):.2f}%\")\n"
   ]
  }
 ],
 "metadata": {
  "kernelspec": {
   "display_name": "Python 3",
   "language": "python",
   "name": "python3"
  },
  "language_info": {
   "codemirror_mode": {
    "name": "ipython",
    "version": 3
   },
   "file_extension": ".py",
   "mimetype": "text/x-python",
   "name": "python",
   "nbconvert_exporter": "python",
   "pygments_lexer": "ipython3",
   "version": "3.13.0"
  }
 },
 "nbformat": 4,
 "nbformat_minor": 5
}
